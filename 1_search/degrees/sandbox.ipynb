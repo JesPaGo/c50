{
 "cells": [
  {
   "cell_type": "code",
   "execution_count": 2,
   "metadata": {},
   "outputs": [],
   "source": [
    "import sys\n",
    "import csv\n",
    "from util import Node, StackFrontier, QueueFrontier\n",
    "from degrees import *"
   ]
  },
  {
   "cell_type": "code",
   "execution_count": 3,
   "metadata": {},
   "outputs": [
    {
     "name": "stdout",
     "output_type": "stream",
     "text": [
      "Loading data...\n",
      "Data loaded.\n"
     ]
    }
   ],
   "source": [
    "directory = \"small\"\n",
    "\n",
    "# Load data from files into memory\n",
    "print(\"Loading data...\")\n",
    "load_data(directory)\n",
    "print(\"Data loaded.\")"
   ]
  },
  {
   "cell_type": "code",
   "execution_count": 8,
   "metadata": {},
   "outputs": [
    {
     "data": {
      "text/plain": [
       "{'112384': {'title': 'Apollo 13',\n",
       "  'year': '1995',\n",
       "  'stars': {'102', '158', '200', '641'}},\n",
       " '104257': {'title': 'A Few Good Men',\n",
       "  'year': '1992',\n",
       "  'stars': {'102', '129', '193', '197'}},\n",
       " '109830': {'title': 'Forrest Gump',\n",
       "  'year': '1994',\n",
       "  'stars': {'158', '398', '641', '705'}},\n",
       " '93779': {'title': 'The Princess Bride',\n",
       "  'year': '1987',\n",
       "  'stars': {'144', '1597', '1697', '705'}},\n",
       " '95953': {'title': 'Rain Man',\n",
       "  'year': '1988',\n",
       "  'stars': {'129', '163', '420', '596520'}}}"
      ]
     },
     "execution_count": 8,
     "metadata": {},
     "output_type": "execute_result"
    }
   ],
   "source": [
    "movies"
   ]
  },
  {
   "cell_type": "code",
   "execution_count": 27,
   "metadata": {},
   "outputs": [
    {
     "data": {
      "text/plain": [
       "{('104257', '102'),\n",
       " ('104257', '129'),\n",
       " ('104257', '193'),\n",
       " ('104257', '197'),\n",
       " ('112384', '102'),\n",
       " ('112384', '158'),\n",
       " ('112384', '200'),\n",
       " ('112384', '641')}"
      ]
     },
     "execution_count": 27,
     "metadata": {},
     "output_type": "execute_result"
    }
   ],
   "source": [
    "id_person = person_id_for_name(\"Tom Cruise\")\n",
    "#id_person = person_id_for_name(\"Kevin Bacon\")\n",
    "neighbors_for_person('102')"
   ]
  },
  {
   "cell_type": "code",
   "execution_count": 28,
   "metadata": {},
   "outputs": [
    {
     "data": {
      "text/plain": [
       "[('112384', '158'),\n",
       " ('112384', '641'),\n",
       " ('104257', '197'),\n",
       " ('112384', '200'),\n",
       " ('104257', '193'),\n",
       " ('104257', '129')]"
      ]
     },
     "execution_count": 28,
     "metadata": {},
     "output_type": "execute_result"
    }
   ],
   "source": [
    "neighbors('102')"
   ]
  },
  {
   "cell_type": "code",
   "execution_count": 4,
   "metadata": {},
   "outputs": [
    {
     "data": {
      "text/plain": [
       "{'102': {'name': 'Kevin Bacon',\n",
       "  'birth': '1958',\n",
       "  'movies': {'104257', '112384'}},\n",
       " '129': {'name': 'Tom Cruise', 'birth': '1962', 'movies': {'104257', '95953'}},\n",
       " '144': {'name': 'Cary Elwes', 'birth': '1962', 'movies': {'93779'}},\n",
       " '158': {'name': 'Tom Hanks', 'birth': '1956', 'movies': {'109830', '112384'}},\n",
       " '1597': {'name': 'Mandy Patinkin', 'birth': '1952', 'movies': {'93779'}},\n",
       " '163': {'name': 'Dustin Hoffman', 'birth': '1937', 'movies': {'95953'}},\n",
       " '1697': {'name': 'Chris Sarandon', 'birth': '1942', 'movies': {'93779'}},\n",
       " '193': {'name': 'Demi Moore', 'birth': '1962', 'movies': {'104257'}},\n",
       " '197': {'name': 'Jack Nicholson', 'birth': '1937', 'movies': {'104257'}},\n",
       " '200': {'name': 'Bill Paxton', 'birth': '1955', 'movies': {'112384'}},\n",
       " '398': {'name': 'Sally Field', 'birth': '1946', 'movies': {'109830'}},\n",
       " '420': {'name': 'Valeria Golino', 'birth': '1965', 'movies': {'95953'}},\n",
       " '596520': {'name': 'Gerald R. Molen', 'birth': '1935', 'movies': {'95953'}},\n",
       " '641': {'name': 'Gary Sinise',\n",
       "  'birth': '1955',\n",
       "  'movies': {'109830', '112384'}},\n",
       " '705': {'name': 'Robin Wright',\n",
       "  'birth': '1966',\n",
       "  'movies': {'109830', '93779'}},\n",
       " '914612': {'name': 'Emma Watson', 'birth': '1990', 'movies': set()}}"
      ]
     },
     "execution_count": 4,
     "metadata": {},
     "output_type": "execute_result"
    }
   ],
   "source": [
    "people"
   ]
  },
  {
   "cell_type": "code",
   "execution_count": 4,
   "metadata": {},
   "outputs": [
    {
     "data": {
      "text/plain": [
       "{('104257', '102'), ('104257', '129'), ('104257', '193'), ('104257', '197')}"
      ]
     },
     "execution_count": 4,
     "metadata": {},
     "output_type": "execute_result"
    }
   ],
   "source": [
    "id_ew = person_id_for_name(\"Jack Nicholson\")\n",
    "neighbors_for_person(id_ew)"
   ]
  },
  {
   "cell_type": "code",
   "execution_count": 12,
   "metadata": {},
   "outputs": [],
   "source": [
    "def neighbors(state):\n",
    "    id_person = state\n",
    "    candidates = neighbors_for_person(id_person)\n",
    "    result = []\n",
    "\n",
    "    for action, candidate_person in candidates:\n",
    "        if candidate_person != id_person:\n",
    "            result.append((action, candidate_person))\n",
    "    return result"
   ]
  },
  {
   "cell_type": "code",
   "execution_count": 38,
   "metadata": {},
   "outputs": [
    {
     "name": "stdout",
     "output_type": "stream",
     "text": [
      "SOLVED after 8 iterations\n",
      "[('104257', '102'), ('112384', '158')]\n"
     ]
    }
   ],
   "source": [
    "num_explored = 0\n",
    "\n",
    "source=\"Tom Cruise\"\n",
    "target=\"Tom Hanks\"\n",
    "id_source = person_id_for_name(source)\n",
    "id_target = person_id_for_name(target)\n",
    "goal = id_target\n",
    "\n",
    "start = Node(state=id_source, parent=None, action=None)\n",
    "frontier = QueueFrontier() # exchangeable w/ StackFrontier()\n",
    "frontier.add(start)\n",
    "solution = None\n",
    "\n",
    "explored = set()\n",
    "\n",
    "while True:\n",
    "    if frontier.empty():\n",
    "        raise Exception(\"no solution\")\n",
    "\n",
    "    # Choose a node from the frontier\n",
    "    node = frontier.remove()\n",
    "    num_explored += 1\n",
    "#    print([(node.action, node.state) for node in frontier.frontier]) #savestate\n",
    "    # If node is the goal, then we have a solution\n",
    "    if node.state == goal:\n",
    "        actions = []\n",
    "        cells = []\n",
    "        while node.parent is not None:\n",
    "            actions.append(node.action)\n",
    "            cells.append(node.state)\n",
    "            node = node.parent\n",
    "        actions.reverse()\n",
    "        cells.reverse()\n",
    "        solution = (actions, cells)\n",
    "        path = [(x,y) for x, y in (zip(solution[0], solution[1]))]\n",
    "        print(f\"SOLVED after {num_explored} iterations\")\n",
    "        print(path)\n",
    "        break\n",
    "\n",
    "    explored.add(node.state)\n",
    "\n",
    "    for action, state in neighbors(node.state):\n",
    "        if not frontier.contains_state(state) and state not in explored:\n",
    "            child = Node(state=state, parent=node, action=action)\n",
    "            frontier.add(child)\n",
    "\n",
    "#    print((node.state, node.action)) #savestate\n"
   ]
  },
  {
   "cell_type": "code",
   "execution_count": 45,
   "metadata": {},
   "outputs": [
    {
     "name": "stdout",
     "output_type": "stream",
     "text": [
      "There are no connections between actors.\n"
     ]
    }
   ],
   "source": [
    "def shortest_path(source, target):\n",
    "    \"\"\"\n",
    "    Returns the shortest list of (movie_id, person_id) pairs\n",
    "    that connect the source to the target.\n",
    "\n",
    "    If no possible path, returns None.\n",
    "    \"\"\"\n",
    "    num_explored = 0\n",
    "\n",
    "    id_source = person_id_for_name(source)\n",
    "    id_target = person_id_for_name(target)\n",
    "    goal = id_target\n",
    "\n",
    "    start = Node(state=id_source, parent=None, action=None)\n",
    "    frontier = QueueFrontier() # exchangeable w/ StackFrontier()\n",
    "    frontier.add(start)\n",
    "    solution = None\n",
    "\n",
    "    explored = set()\n",
    "\n",
    "    while True:\n",
    "        if frontier.empty():\n",
    "            print(\"There are no connections between actors.\")\n",
    "            return None\n",
    "\n",
    "        # Choose a node from the frontier\n",
    "        node = frontier.remove()\n",
    "        num_explored += 1\n",
    "    #    print([(node.action, node.state) for node in frontier.frontier]) #savestate\n",
    "        # If node is the goal, then we have a solution\n",
    "        if node.state == goal:\n",
    "            actions = []\n",
    "            cells = []\n",
    "            while node.parent is not None:\n",
    "                actions.append(node.action)\n",
    "                cells.append(node.state)\n",
    "                node = node.parent\n",
    "            actions.reverse()\n",
    "            cells.reverse()\n",
    "            solution = (actions, cells)\n",
    "            path = [(x,y) for x, y in (zip(solution[0], solution[1]))]\n",
    "            print(f\"SOLVED after {num_explored} iterations.\")\n",
    "            return path\n",
    "\n",
    "        explored.add(node.state)\n",
    "\n",
    "        for action, state in neighbors(node.state):\n",
    "            if not frontier.contains_state(state) and state not in explored:\n",
    "                child = Node(state=state, parent=node, action=action)\n",
    "                frontier.add(child)\n",
    "\n",
    "    #    print((node.state, node.action)) #savestate\n",
    "\n",
    "\n",
    "\n",
    "shortest_path(\"Valeria Golino\", \"Emma Watson\")"
   ]
  },
  {
   "cell_type": "code",
   "execution_count": 28,
   "metadata": {},
   "outputs": [],
   "source": [
    "data = load_data(\"small\")\n",
    "data"
   ]
  },
  {
   "cell_type": "code",
   "execution_count": 21,
   "metadata": {},
   "outputs": [
    {
     "name": "stdout",
     "output_type": "stream",
     "text": [
      "None\n"
     ]
    }
   ],
   "source": [
    "name = \"Mandy Patinkin\"\n",
    "person_id = person_id_for_name(name)\n",
    "print(person_id)"
   ]
  }
 ],
 "metadata": {
  "kernelspec": {
   "display_name": "Python 3",
   "language": "python",
   "name": "python3"
  },
  "language_info": {
   "codemirror_mode": {
    "name": "ipython",
    "version": 3
   },
   "file_extension": ".py",
   "mimetype": "text/x-python",
   "name": "python",
   "nbconvert_exporter": "python",
   "pygments_lexer": "ipython3",
   "version": "3.12.5"
  }
 },
 "nbformat": 4,
 "nbformat_minor": 2
}
